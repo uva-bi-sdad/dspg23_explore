{
 "cells": [
  {
   "cell_type": "markdown",
   "id": "16a46931",
   "metadata": {},
   "source": [
    "## BeautifulSoup in One Slide\n",
    "Simple tasks\n"
   ]
  },
  {
   "cell_type": "code",
   "execution_count": 1,
   "id": "b30652f1",
   "metadata": {},
   "outputs": [],
   "source": [
    "#pip install bs4\n",
    "from bs4 import BeautifulSoup"
   ]
  },
  {
   "cell_type": "code",
   "execution_count": 2,
   "id": "867d886d",
   "metadata": {},
   "outputs": [],
   "source": [
    "from urllib.request import urlopen"
   ]
  },
  {
   "cell_type": "code",
   "execution_count": 3,
   "id": "cd598698",
   "metadata": {},
   "outputs": [],
   "source": [
    "html = urlopen(\"https://beautiful-soup-4.readthedocs.io/en/latest/#\")\n",
    "page_bs = BeautifulSoup(html.read(), \"lxml\")"
   ]
  },
  {
   "cell_type": "code",
   "execution_count": 4,
   "id": "8f3864a4",
   "metadata": {},
   "outputs": [],
   "source": [
    "h2 = page_bs.find_all('h2') # find_all() finds the elements"
   ]
  },
  {
   "cell_type": "code",
   "execution_count": 5,
   "id": "ffc5004a",
   "metadata": {},
   "outputs": [
    {
     "data": {
      "text/plain": [
       "bs4.element.ResultSet"
      ]
     },
     "execution_count": 5,
     "metadata": {},
     "output_type": "execute_result"
    }
   ],
   "source": [
    "type(h2)"
   ]
  },
  {
   "cell_type": "code",
   "execution_count": null,
   "id": "92401cf5",
   "metadata": {},
   "outputs": [],
   "source": [
    "# h2_spec = page_bs.find_all('h2', class_ = '...', id = '...')"
   ]
  },
  {
   "cell_type": "code",
   "execution_count": null,
   "id": "d7f84624",
   "metadata": {},
   "outputs": [],
   "source": [
    "# links = page_bs.find_all('link')"
   ]
  },
  {
   "cell_type": "code",
   "execution_count": 6,
   "id": "8e449a18",
   "metadata": {},
   "outputs": [
    {
     "name": "stdout",
     "output_type": "stream",
     "text": [
      "<h2>Getting help<a class=\"headerlink\" href=\"#getting-help\" title=\"Permalink to this headline\">¶</a></h2>\n"
     ]
    }
   ],
   "source": [
    "# clear outputs\n",
    "print(h2[0])"
   ]
  },
  {
   "cell_type": "code",
   "execution_count": 7,
   "id": "ed546f48",
   "metadata": {},
   "outputs": [
    {
     "name": "stdout",
     "output_type": "stream",
     "text": [
      "Getting help\n",
      "Problems after installation\n",
      "Installing a parser\n",
      "Tag\n",
      "NavigableString\n",
      "BeautifulSoup\n",
      "Comments and other special strings\n",
      "Going down\n",
      "Going up\n",
      "Going sideways\n",
      "Going back and forth\n",
      "Kinds of filters\n",
      "find_all()\n",
      "Calling a tag is like calling find_all()\n",
      "find()\n",
      "find_parents() and find_parent()\n",
      "find_next_siblings() and find_next_sibling()\n",
      "find_previous_siblings() and find_previous_sibling()\n",
      "find_all_next() and find_next()\n",
      "find_all_previous() and find_previous()\n",
      "CSS selectors\n",
      "Changing tag names and attributes\n",
      "Modifying .string\n",
      "append()\n",
      "extend()\n",
      "NavigableString() and .new_tag()\n",
      "insert()\n",
      "insert_before() and insert_after()\n",
      "clear()\n",
      "extract()\n",
      "decompose()\n",
      "replace_with()\n",
      "wrap()\n",
      "unwrap()\n",
      "smooth()\n",
      "Pretty-printing\n",
      "Non-pretty printing\n",
      "Output formatters\n",
      "get_text()\n",
      "Differences between parsers\n",
      "Output encoding\n",
      "Unicode, Dammit\n",
      "SoupStrainer\n",
      "diagnose()\n",
      "Errors when parsing a document\n",
      "Version mismatch problems\n",
      "Parsing XML\n",
      "Other parser problems\n",
      "Miscellaneous\n",
      "Improving Performance\n",
      "Porting code to BS4\n"
     ]
    }
   ],
   "source": [
    "for header_info in h2:\n",
    "    #print(header_info)\n",
    "    header = header_info.get_text().rstrip('¶')\n",
    "    print(header)"
   ]
  },
  {
   "cell_type": "code",
   "execution_count": 8,
   "id": "dde8c5ce",
   "metadata": {},
   "outputs": [],
   "source": [
    "table_list = page_bs.find_all('table')"
   ]
  },
  {
   "cell_type": "code",
   "execution_count": 9,
   "id": "a4673826",
   "metadata": {},
   "outputs": [
    {
     "data": {
      "text/plain": [
       "1"
      ]
     },
     "execution_count": 9,
     "metadata": {},
     "output_type": "execute_result"
    }
   ],
   "source": [
    "len(table_list)"
   ]
  },
  {
   "cell_type": "code",
   "execution_count": 10,
   "id": "2a912d23",
   "metadata": {},
   "outputs": [
    {
     "data": {
      "text/plain": [
       "<table border=\"1\" class=\"docutils\">\n",
       "<colgroup>\n",
       "<col width=\"18%\"/>\n",
       "<col width=\"35%\"/>\n",
       "<col width=\"26%\"/>\n",
       "<col width=\"21%\"/>\n",
       "</colgroup>\n",
       "<tbody valign=\"top\">\n",
       "<tr class=\"row-odd\"><td>Parser</td>\n",
       "<td>Typical usage</td>\n",
       "<td>Advantages</td>\n",
       "<td>Disadvantages</td>\n",
       "</tr>\n",
       "<tr class=\"row-even\"><td>Python’s html.parser</td>\n",
       "<td><code class=\"docutils literal notranslate\"><span class=\"pre\">BeautifulSoup(markup,</span> <span class=\"pre\">\"html.parser\")</span></code></td>\n",
       "<td><ul class=\"first last simple\">\n",
       "<li>Batteries included</li>\n",
       "<li>Decent speed</li>\n",
       "<li>Lenient (As of Python 2.7.3\n",
       "and 3.2.)</li>\n",
       "</ul>\n",
       "</td>\n",
       "<td><ul class=\"first last simple\">\n",
       "<li>Not as fast as lxml,\n",
       "less lenient than\n",
       "html5lib.</li>\n",
       "</ul>\n",
       "</td>\n",
       "</tr>\n",
       "<tr class=\"row-odd\"><td>lxml’s HTML parser</td>\n",
       "<td><code class=\"docutils literal notranslate\"><span class=\"pre\">BeautifulSoup(markup,</span> <span class=\"pre\">\"lxml\")</span></code></td>\n",
       "<td><ul class=\"first last simple\">\n",
       "<li>Very fast</li>\n",
       "<li>Lenient</li>\n",
       "</ul>\n",
       "</td>\n",
       "<td><ul class=\"first last simple\">\n",
       "<li>External C dependency</li>\n",
       "</ul>\n",
       "</td>\n",
       "</tr>\n",
       "<tr class=\"row-even\"><td>lxml’s XML parser</td>\n",
       "<td><code class=\"docutils literal notranslate\"><span class=\"pre\">BeautifulSoup(markup,</span> <span class=\"pre\">\"lxml-xml\")</span></code>\n",
       "<code class=\"docutils literal notranslate\"><span class=\"pre\">BeautifulSoup(markup,</span> <span class=\"pre\">\"xml\")</span></code></td>\n",
       "<td><ul class=\"first last simple\">\n",
       "<li>Very fast</li>\n",
       "<li>The only currently supported\n",
       "XML parser</li>\n",
       "</ul>\n",
       "</td>\n",
       "<td><ul class=\"first last simple\">\n",
       "<li>External C dependency</li>\n",
       "</ul>\n",
       "</td>\n",
       "</tr>\n",
       "<tr class=\"row-odd\"><td>html5lib</td>\n",
       "<td><code class=\"docutils literal notranslate\"><span class=\"pre\">BeautifulSoup(markup,</span> <span class=\"pre\">\"html5lib\")</span></code></td>\n",
       "<td><ul class=\"first last simple\">\n",
       "<li>Extremely lenient</li>\n",
       "<li>Parses pages the same way a\n",
       "web browser does</li>\n",
       "<li>Creates valid HTML5</li>\n",
       "</ul>\n",
       "</td>\n",
       "<td><ul class=\"first last simple\">\n",
       "<li>Very slow</li>\n",
       "<li>External Python\n",
       "dependency</li>\n",
       "</ul>\n",
       "</td>\n",
       "</tr>\n",
       "</tbody>\n",
       "</table>"
      ]
     },
     "execution_count": 10,
     "metadata": {},
     "output_type": "execute_result"
    }
   ],
   "source": [
    "table_list[0]"
   ]
  },
  {
   "cell_type": "code",
   "execution_count": 11,
   "id": "6da8fd04",
   "metadata": {},
   "outputs": [],
   "source": [
    "import pandas as pd"
   ]
  },
  {
   "cell_type": "code",
   "execution_count": 12,
   "id": "e3847f65",
   "metadata": {},
   "outputs": [],
   "source": [
    "df = pd.read_html(str(table_list[0]))[0]"
   ]
  },
  {
   "cell_type": "code",
   "execution_count": 13,
   "id": "63f0d791",
   "metadata": {},
   "outputs": [
    {
     "data": {
      "text/html": [
       "<div>\n",
       "<style scoped>\n",
       "    .dataframe tbody tr th:only-of-type {\n",
       "        vertical-align: middle;\n",
       "    }\n",
       "\n",
       "    .dataframe tbody tr th {\n",
       "        vertical-align: top;\n",
       "    }\n",
       "\n",
       "    .dataframe thead th {\n",
       "        text-align: right;\n",
       "    }\n",
       "</style>\n",
       "<table border=\"1\" class=\"dataframe\">\n",
       "  <thead>\n",
       "    <tr style=\"text-align: right;\">\n",
       "      <th></th>\n",
       "      <th>0</th>\n",
       "      <th>1</th>\n",
       "      <th>2</th>\n",
       "      <th>3</th>\n",
       "    </tr>\n",
       "  </thead>\n",
       "  <tbody>\n",
       "    <tr>\n",
       "      <th>0</th>\n",
       "      <td>Parser</td>\n",
       "      <td>Typical usage</td>\n",
       "      <td>Advantages</td>\n",
       "      <td>Disadvantages</td>\n",
       "    </tr>\n",
       "    <tr>\n",
       "      <th>1</th>\n",
       "      <td>Python’s html.parser</td>\n",
       "      <td>BeautifulSoup(markup, \"html.parser\")</td>\n",
       "      <td>Batteries included Decent speed Lenient (As of...</td>\n",
       "      <td>Not as fast as lxml, less lenient than html5lib.</td>\n",
       "    </tr>\n",
       "    <tr>\n",
       "      <th>2</th>\n",
       "      <td>lxml’s HTML parser</td>\n",
       "      <td>BeautifulSoup(markup, \"lxml\")</td>\n",
       "      <td>Very fast Lenient</td>\n",
       "      <td>External C dependency</td>\n",
       "    </tr>\n",
       "    <tr>\n",
       "      <th>3</th>\n",
       "      <td>lxml’s XML parser</td>\n",
       "      <td>BeautifulSoup(markup, \"lxml-xml\") BeautifulSou...</td>\n",
       "      <td>Very fast The only currently supported XML parser</td>\n",
       "      <td>External C dependency</td>\n",
       "    </tr>\n",
       "    <tr>\n",
       "      <th>4</th>\n",
       "      <td>html5lib</td>\n",
       "      <td>BeautifulSoup(markup, \"html5lib\")</td>\n",
       "      <td>Extremely lenient Parses pages the same way a ...</td>\n",
       "      <td>Very slow External Python dependency</td>\n",
       "    </tr>\n",
       "  </tbody>\n",
       "</table>\n",
       "</div>"
      ],
      "text/plain": [
       "                      0                                                  1  \\\n",
       "0                Parser                                      Typical usage   \n",
       "1  Python’s html.parser               BeautifulSoup(markup, \"html.parser\")   \n",
       "2    lxml’s HTML parser                      BeautifulSoup(markup, \"lxml\")   \n",
       "3     lxml’s XML parser  BeautifulSoup(markup, \"lxml-xml\") BeautifulSou...   \n",
       "4              html5lib                  BeautifulSoup(markup, \"html5lib\")   \n",
       "\n",
       "                                                   2  \\\n",
       "0                                         Advantages   \n",
       "1  Batteries included Decent speed Lenient (As of...   \n",
       "2                                  Very fast Lenient   \n",
       "3  Very fast The only currently supported XML parser   \n",
       "4  Extremely lenient Parses pages the same way a ...   \n",
       "\n",
       "                                                  3  \n",
       "0                                     Disadvantages  \n",
       "1  Not as fast as lxml, less lenient than html5lib.  \n",
       "2                             External C dependency  \n",
       "3                             External C dependency  \n",
       "4              Very slow External Python dependency  "
      ]
     },
     "execution_count": 13,
     "metadata": {},
     "output_type": "execute_result"
    }
   ],
   "source": [
    "df"
   ]
  },
  {
   "cell_type": "code",
   "execution_count": 16,
   "id": "839fb81a",
   "metadata": {},
   "outputs": [],
   "source": [
    "html = urlopen(\"https://www.weddingwire.com/biz/the-chadwick-wexford/68c692d704f8b993.html\")"
   ]
  },
  {
   "cell_type": "code",
   "execution_count": 17,
   "id": "e5888106",
   "metadata": {},
   "outputs": [],
   "source": [
    "page_bs = BeautifulSoup(html.read(), \"lxml\")"
   ]
  },
  {
   "cell_type": "code",
   "execution_count": 26,
   "id": "49fb6a64",
   "metadata": {},
   "outputs": [],
   "source": [
    "rating = page_bs.find_all('strong')"
   ]
  },
  {
   "cell_type": "code",
   "execution_count": 27,
   "id": "0c1e4103",
   "metadata": {},
   "outputs": [
    {
     "data": {
      "text/plain": [
       "3"
      ]
     },
     "execution_count": 27,
     "metadata": {},
     "output_type": "execute_result"
    }
   ],
   "source": [
    "len(rating)"
   ]
  },
  {
   "cell_type": "code",
   "execution_count": 28,
   "id": "2c2bdee4",
   "metadata": {},
   "outputs": [
    {
     "name": "stdout",
     "output_type": "stream",
     "text": [
      "[<strong aria-hidden=\"true\" class=\"storefrontSplitViewHeadingReviews__starsValue\" data-testid=\"storefrontHeadingReviewsStarsValue\">4.9 Excellent</strong>, <strong>Facilities and Capacity</strong>, <strong>Services Offered</strong>]\n"
     ]
    }
   ],
   "source": [
    "print(rating)"
   ]
  },
  {
   "cell_type": "code",
   "execution_count": 29,
   "id": "777efcbd",
   "metadata": {},
   "outputs": [],
   "source": [
    "rating = page_bs.find_all('strong', class_ = \"storefrontSplitViewHeadingReviews__starsValue\")"
   ]
  },
  {
   "cell_type": "code",
   "execution_count": 30,
   "id": "25ee768a",
   "metadata": {},
   "outputs": [
    {
     "name": "stdout",
     "output_type": "stream",
     "text": [
      "[<strong aria-hidden=\"true\" class=\"storefrontSplitViewHeadingReviews__starsValue\" data-testid=\"storefrontHeadingReviewsStarsValue\">4.9 Excellent</strong>]\n"
     ]
    }
   ],
   "source": [
    "print(rating)"
   ]
  },
  {
   "cell_type": "code",
   "execution_count": 33,
   "id": "bf7767ae",
   "metadata": {},
   "outputs": [
    {
     "data": {
      "text/plain": [
       "'4.9 Excellent'"
      ]
     },
     "execution_count": 33,
     "metadata": {},
     "output_type": "execute_result"
    }
   ],
   "source": [
    "rating[0].get_text()"
   ]
  },
  {
   "cell_type": "code",
   "execution_count": 34,
   "id": "3815ed1e",
   "metadata": {},
   "outputs": [
    {
     "data": {
      "text/plain": [
       "'4.9'"
      ]
     },
     "execution_count": 34,
     "metadata": {},
     "output_type": "execute_result"
    }
   ],
   "source": [
    "rating[0].get_text().split()[0]"
   ]
  },
  {
   "cell_type": "code",
   "execution_count": 35,
   "id": "db4d6279",
   "metadata": {},
   "outputs": [
    {
     "data": {
      "text/plain": [
       "<strong aria-hidden=\"true\" class=\"storefrontSplitViewHeadingReviews__starsValue\" data-testid=\"storefrontHeadingReviewsStarsValue\">4.9 Excellent</strong>"
      ]
     },
     "execution_count": 35,
     "metadata": {},
     "output_type": "execute_result"
    }
   ],
   "source": [
    "# second option: find()\n",
    "# Returns: \n",
    "page_bs.find('strong')"
   ]
  },
  {
   "cell_type": "code",
   "execution_count": null,
   "id": "764eeff0",
   "metadata": {},
   "outputs": [],
   "source": []
  }
 ],
 "metadata": {
  "kernelspec": {
   "display_name": "Python 3 (ipykernel)",
   "language": "python",
   "name": "python3"
  },
  "language_info": {
   "codemirror_mode": {
    "name": "ipython",
    "version": 3
   },
   "file_extension": ".py",
   "mimetype": "text/x-python",
   "name": "python",
   "nbconvert_exporter": "python",
   "pygments_lexer": "ipython3",
   "version": "3.9.12"
  }
 },
 "nbformat": 4,
 "nbformat_minor": 5
}
